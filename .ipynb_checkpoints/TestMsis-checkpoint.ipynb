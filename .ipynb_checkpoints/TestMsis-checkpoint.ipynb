{
 "metadata": {
  "name": "",
  "signature": "sha256:2edbf6eb9b7966953f822babb4571c8f89e0532eca952e28546b4a7c8e325212"
 },
 "nbformat": 3,
 "nbformat_minor": 0,
 "worksheets": [
  {
   "cells": [
    {
     "cell_type": "code",
     "collapsed": false,
     "input": [
      "%load_ext autoreload\n",
      "%autoreload 2\n",
      "%pylab inline\n",
      "import msispy"
     ],
     "language": "python",
     "metadata": {},
     "outputs": [
      {
       "output_type": "stream",
       "stream": "stdout",
       "text": [
        "Populating the interactive namespace from numpy and matplotlib\n"
       ]
      }
     ],
     "prompt_number": 1
    },
    {
     "cell_type": "code",
     "collapsed": false,
     "input": [
      "import matplotlib.pyplot as pp\n",
      "from matplotlib.colors import LogNorm\n",
      "f = pp.figure()\n",
      "a = pp.axes()\n",
      "nlats=20\n",
      "nalts=20\n",
      "lats = numpy.linspace(-90.,90.,num=nlats)\n",
      "alts = numpy.linspace(0,1000,num=nalts)\n",
      "latgrid,altgrid = numpy.meshgrid(lats,alts)\n",
      "lon=-90. #Minnesota?\n",
      "dt = datetime.datetime(2005,12,21,18,0,0) #Pick december 21, solar max, 18 UT (12 local time @ 90 West)\n",
      "#Call MSIS with array inputs\n",
      "species,t_exo,t_alt,drivers = msispy.msis(dt,latgrid.flatten(),numpy.ones_like(altgrid.flatten())*lon,altgrid.flatten())\n",
      "Z = numpy.reshape(species['O'],latgrid.shape)\n",
      "Z[Z<=0] = numpy.nan\n",
      "a.pcolor(latgrid,altgrid,Z,norm=LogNorm(vmin=Z.min(), vmax=Z.max()))"
     ],
     "language": "python",
     "metadata": {},
     "outputs": [
      {
       "metadata": {},
       "output_type": "pyout",
       "prompt_number": 9,
       "text": [
        "<matplotlib.collections.PolyCollection at 0x7fb6c8615dd0>"
       ]
      },
      {
       "output_type": "stream",
       "stream": "stderr",
       "text": [
        "/home/liamk/anaconda/lib/python2.7/site-packages/IPython/core/formatters.py:239: FormatterWarning: Exception in image/png formatter: values must all be positive\n",
        "  FormatterWarning,\n"
       ]
      },
      {
       "metadata": {},
       "output_type": "display_data",
       "text": [
        "<matplotlib.figure.Figure at 0x7fb6c6b240d0>"
       ]
      }
     ],
     "prompt_number": 9
    },
    {
     "cell_type": "code",
     "collapsed": false,
     "input": [
      "species['O'].shape"
     ],
     "language": "python",
     "metadata": {},
     "outputs": [
      {
       "metadata": {},
       "output_type": "pyout",
       "prompt_number": 6,
       "text": [
        "(400, 1)"
       ]
      }
     ],
     "prompt_number": 6
    }
   ],
   "metadata": {}
  }
 ]
}